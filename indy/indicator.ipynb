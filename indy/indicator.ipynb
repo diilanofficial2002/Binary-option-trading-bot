{
 "cells": [
  {
   "cell_type": "code",
   "execution_count": 11,
   "id": "82317e36",
   "metadata": {},
   "outputs": [],
   "source": [
    "import pandas as pd\n",
    "import numpy as np"
   ]
  },
  {
   "cell_type": "code",
   "execution_count": 12,
   "id": "9ba62c00",
   "metadata": {},
   "outputs": [],
   "source": [
    "pair = \"EURUSD\""
   ]
  },
  {
   "cell_type": "code",
   "execution_count": 13,
   "id": "8d04a981",
   "metadata": {},
   "outputs": [],
   "source": [
    "df = pd.read_csv(f'../data/raw_{pair}.csv')"
   ]
  },
  {
   "cell_type": "code",
   "execution_count": 16,
   "id": "15429008",
   "metadata": {},
   "outputs": [],
   "source": [
    "import pandas as pd\n",
    "import numpy as np\n",
    "import matplotlib.pyplot as plt\n",
    "import ta\n",
    "from ta.trend import MACD, SMAIndicator, PSARIndicator\n",
    "from ta.momentum import RSIIndicator, StochasticOscillator, AwesomeOscillatorIndicator\n",
    "from ta.volatility import BollingerBands, AverageTrueRange\n",
    "from ta.others import DailyReturnIndicator\n",
    "from pykalman import KalmanFilter\n",
    "import plotly.express as px\n",
    "\n",
    "def apply_kalman_filter(series):\n",
    "    kf = KalmanFilter(initial_state_mean=series.iloc[0], n_dim_obs=1)\n",
    "    state_means, _ = kf.filter(series.values)\n",
    "    return pd.Series(state_means.flatten(), index=series.index)\n",
    "\n",
    "def add_indicators(df):\n",
    "    # Parabolic SAR - ปรับให้ไวขึ้นสำหรับไทม์เฟรมสั้น\n",
    "    psar = PSARIndicator(high=df['high'], low=df['low'], close=df['close'], \n",
    "                        step=0.015, max_step=0.15)\n",
    "    df['psar'] = psar.psar()\n",
    "    df['psar_trend'] = np.where(df['close'] > df['psar'], 1, -1)  # 1 = uptrend, -1 = downtrend\n",
    "\n",
    "    # RSI - ใช้ค่า 7 สำหรับไทม์เฟรม 1 นาที\n",
    "    rsi = RSIIndicator(close=df['close'], window=12)\n",
    "    df['rsi'] = rsi.rsi()\n",
    "\n",
    "    # Apply Kalman filter to close price with modified transition variance\n",
    "    kf = KalmanFilter(\n",
    "        transition_matrices=[1],\n",
    "        observation_matrices=[1],\n",
    "        initial_state_mean=df['close'].iloc[0],\n",
    "        initial_state_covariance=1,\n",
    "        observation_covariance=1.0,\n",
    "        transition_covariance=0.436  # << Controls smoothness\n",
    "    )\n",
    "    state_means, _ = kf.filter(df['close'].values)\n",
    "    df['kalman'] = state_means.flatten()\n",
    "\n",
    "    return df\n",
    "\n",
    "def generate_signals(df):\n",
    "    signals = pd.DataFrame(index=df.index)\n",
    "    signals['price'] = df['close']\n",
    "    signals['psar_signal'] = df['psar_trend']\n",
    "    signals['rsi_signal'] = 0\n",
    "    signals.loc[(df['rsi'] < 32), 'rsi_signal'] = 1  # ภาวะขายมากเกินไป (Oversold)\n",
    "    signals.loc[(df['rsi'] > 79), 'rsi_signal'] = -1 # ภาวะซื้อมากเกินไป (Overbought)\n",
    "    signals.loc[(df['rsi'] > 50) & (df['rsi'] < 79), 'rsi_signal'] = 1  # ภาวะขายมากเกินไป (Oversold)\n",
    "    signals.loc[(df['rsi'] > 32) & (df['rsi'] < 50), 'rsi_signal'] = -1  # ภาวะซื้อมากเกินไป (Overbought)\n",
    "    # Signal generation\n",
    "    signals['kalman_signal'] = 0\n",
    "    signals.loc[(df['close'] > df['kalman']), 'kalman_signal'] = 1\n",
    "    signals.loc[(df['close'] < df['kalman']), 'kalman_signal'] = -1\n",
    "\n",
    "    signals['total_signal'] = (signals['rsi_signal']+signals['psar_signal']+signals['kalman_signal']) # +signals['rsi_signal']+signals['psar_signal']+signals['kalman_signal']\n",
    "\n",
    "\n",
    "    # สัญญาณสุดท้าย: 1 = ซื้อ (Call), -1 = ขาย (Put), 0 = ไม่ทำอะไร\n",
    "    signals['entry_signal'] = 0\n",
    "    signals.loc[signals['total_signal'] >= 3, 'entry_signal'] = 1  # สัญญาณซื้อที่แข็งแกร่ง\n",
    "    signals.loc[signals['total_signal'] <= -3, 'entry_signal'] = -1  # สัญญาณขายที่แข็งแกร่ง\n",
    "\n",
    "    signals['actual_signal'] = 0\n",
    "    signals.loc[df['open'] > df['close'], 'actual_signal'] = -1  # แท่งแดง → PUT\n",
    "    signals.loc[df['open'] < df['close'], 'actual_signal'] = 1   # แท่งเขียว → CALL\n",
    "    return signals  # Return the last signal"
   ]
  },
  {
   "cell_type": "code",
   "execution_count": 17,
   "id": "3474717b",
   "metadata": {},
   "outputs": [
    {
     "name": "stdout",
     "output_type": "stream",
     "text": [
      "Total Trades: 245\n",
      "Max Win Streak: 7\n",
      "Max Lose Streak: 7\n",
      "Win Rate: 49.80%\n",
      "Streak 1: Lose 1 times\n",
      "Streak 2: Win 1 times\n",
      "Streak 3: Lose 2 times\n",
      "Streak 4: Win 1 times\n",
      "Streak 5: Lose 2 times\n",
      "Streak 6: Win 5 times\n",
      "Streak 7: Lose 1 times\n",
      "Streak 8: Win 1 times\n",
      "Streak 9: Lose 2 times\n",
      "Streak 10: Win 1 times\n",
      "Streak 11: Lose 1 times\n",
      "Streak 12: Win 2 times\n",
      "Streak 13: Lose 2 times\n",
      "Streak 14: Win 3 times\n",
      "Streak 15: Lose 2 times\n",
      "Streak 16: Win 1 times\n",
      "Streak 17: Lose 2 times\n",
      "Streak 18: Win 3 times\n",
      "Streak 19: Lose 1 times\n",
      "Streak 20: Win 3 times\n",
      "Streak 21: Lose 1 times\n",
      "Streak 22: Win 2 times\n",
      "Streak 23: Lose 1 times\n",
      "Streak 24: Win 3 times\n",
      "Streak 25: Lose 3 times\n",
      "Streak 26: Win 3 times\n",
      "Streak 27: Lose 1 times\n",
      "Streak 28: Win 1 times\n",
      "Streak 29: Lose 2 times\n",
      "Streak 30: Win 2 times\n",
      "Streak 31: Lose 4 times\n",
      "Streak 32: Win 2 times\n",
      "Streak 33: Lose 2 times\n",
      "Streak 34: Win 1 times\n",
      "Streak 35: Lose 2 times\n",
      "Streak 36: Win 1 times\n",
      "Streak 37: Lose 1 times\n",
      "Streak 38: Win 2 times\n",
      "Streak 39: Lose 1 times\n",
      "Streak 40: Win 1 times\n",
      "Streak 41: Lose 2 times\n",
      "Streak 42: Win 3 times\n",
      "Streak 43: Lose 1 times\n",
      "Streak 44: Win 1 times\n",
      "Streak 45: Lose 1 times\n",
      "Streak 46: Win 1 times\n",
      "Streak 47: Lose 2 times\n",
      "Streak 48: Win 5 times\n",
      "Streak 49: Lose 4 times\n",
      "Streak 50: Win 2 times\n",
      "Streak 51: Lose 2 times\n",
      "Streak 52: Win 2 times\n",
      "Streak 53: Lose 1 times\n",
      "Streak 54: Win 2 times\n",
      "Streak 55: Lose 1 times\n",
      "Streak 56: Win 1 times\n",
      "Streak 57: Lose 1 times\n",
      "Streak 58: Win 1 times\n",
      "Streak 59: Lose 1 times\n",
      "Streak 60: Win 3 times\n",
      "Streak 61: Lose 2 times\n",
      "Streak 62: Win 2 times\n",
      "Streak 63: Lose 2 times\n",
      "Streak 64: Win 1 times\n",
      "Streak 65: Lose 7 times\n",
      "Streak 66: Win 2 times\n",
      "Streak 67: Lose 5 times\n",
      "Streak 68: Win 3 times\n",
      "Streak 69: Lose 1 times\n",
      "Streak 70: Win 1 times\n",
      "Streak 71: Lose 3 times\n",
      "Streak 72: Win 1 times\n",
      "Streak 73: Lose 1 times\n",
      "Streak 74: Win 7 times\n",
      "Streak 75: Lose 1 times\n",
      "Streak 76: Win 1 times\n",
      "Streak 77: Lose 1 times\n",
      "Streak 78: Win 1 times\n",
      "Streak 79: Lose 5 times\n",
      "Streak 80: Win 2 times\n",
      "Streak 81: Lose 1 times\n",
      "Streak 82: Win 1 times\n",
      "Streak 83: Lose 2 times\n",
      "Streak 84: Win 2 times\n",
      "Streak 85: Lose 4 times\n",
      "Streak 86: Win 5 times\n",
      "Streak 87: Lose 2 times\n",
      "Streak 88: Win 1 times\n",
      "Streak 89: Lose 4 times\n",
      "Streak 90: Win 1 times\n",
      "Streak 91: Lose 4 times\n",
      "Streak 92: Win 3 times\n",
      "Streak 93: Lose 2 times\n",
      "Streak 94: Win 1 times\n",
      "Streak 95: Lose 1 times\n",
      "Streak 96: Win 2 times\n",
      "Streak 97: Lose 1 times\n",
      "Streak 98: Win 2 times\n",
      "Streak 99: Lose 5 times\n",
      "Streak 100: Win 2 times\n",
      "Streak 101: Lose 6 times\n",
      "Streak 102: Win 1 times\n",
      "Streak 103: Lose 1 times\n",
      "Streak 104: Win 1 times\n",
      "Streak 105: Lose 3 times\n",
      "Streak 106: Win 1 times\n",
      "Streak 107: Lose 1 times\n",
      "Streak 108: Win 3 times\n",
      "Streak 109: Lose 1 times\n",
      "Streak 110: Win 5 times\n",
      "Streak 111: Lose 1 times\n",
      "Streak 112: Win 2 times\n",
      "Streak 113: Lose 1 times\n",
      "Streak 114: Win 4 times\n",
      "Streak 115: Lose 2 times\n",
      "Streak 116: Win 1 times\n",
      "Streak 117: Lose 1 times\n",
      "Streak 118: Win 3 times\n",
      "Streak 119: Lose 2 times\n"
     ]
    },
    {
     "data": {
      "image/png": "[encoded data removed]",
      "text/plain": [
       "<Figure size 1400x500 with 2 Axes>"
      ]
     },
     "metadata": {},
     "output_type": "display_data"
    },
    {
     "data": {
      "application/vnd.plotly.v1+json": {
       "config": {
        "plotlyServerURL": "https://plot.ly"
       },
       "data": [
        {
         "hovertemplate": "outcome=Lose<br>time=%{x}<br>Streak Group=%{y}<extra></extra>",
         "legendgroup": "Lose",
         "marker": {
          "color": "#636efa",
          "size": 10,
          "symbol": "circle"
         },
         "mode": "markers",
         "name": "Lose",
         "orientation": "v",
         "showlegend": true,
         "type": "scatter",
         "x": [
          "2023-01-01T00:12:00.000000000",
          "2023-01-01T00:20:00.000000000",
          "2023-01-01T00:24:00.000000000",
          "2023-01-01T00:34:00.000000000",
          "2023-01-01T00:36:00.000000000",
          "2023-01-01T00:48:00.000000000",
          "2023-01-01T01:02:00.000000000",
          "2023-01-01T01:04:00.000000000",
          "2023-01-01T01:18:00.000000000",
          "2023-01-01T01:28:00.000000000",
          "2023-01-01T01:32:00.000000000",
          "2023-01-01T01:48:00.000000000",
          "2023-01-01T01:50:00.000000000",
          "2023-01-01T01:54:00.000000000",
          "2023-01-01T01:56:00.000000000",
          "2023-01-01T02:04:00.000000000",
          "2023-01-01T02:14:00.000000000",
          "2023-01-01T02:24:00.000000000",
          "2023-01-01T02:40:00.000000000",
          "2023-01-01T02:42:00.000000000",
          "2023-01-01T02:46:00.000000000",
          "2023-01-01T02:58:00.000000000",
          "2023-01-01T03:08:00.000000000",
          "2023-01-01T03:10:00.000000000",
          "2023-01-01T03:20:00.000000000",
          "2023-01-01T03:26:00.000000000",
          "2023-01-01T03:28:00.000000000",
          "2023-01-01T03:34:00.000000000",
          "2023-01-01T03:50:00.000000000",
          "2023-01-01T03:52:00.000000000",
          "2023-01-01T04:00:00.000000000",
          "2023-01-01T04:04:00.000000000",
          "2023-01-01T04:10:00.000000000",
          "2023-01-01T04:20:00.000000000",
          "2023-01-01T04:26:00.000000000",
          "2023-01-01T04:30:00.000000000",
          "2023-01-01T04:50:00.000000000",
          "2023-01-01T04:56:00.000000000",
          "2023-01-01T05:00:00.000000000",
          "2023-01-01T05:02:00.000000000",
          "2023-01-01T05:38:00.000000000",
          "2023-01-01T05:40:00.000000000",
          "2023-01-01T05:44:00.000000000",
          "2023-01-01T05:46:00.000000000",
          "2023-01-01T06:02:00.000000000",
          "2023-01-01T06:18:00.000000000",
          "2023-01-01T06:24:00.000000000",
          "2023-01-01T06:30:00.000000000",
          "2023-01-01T06:34:00.000000000",
          "2023-01-01T06:44:00.000000000",
          "2023-01-01T06:58:00.000000000",
          "2023-01-01T07:04:00.000000000",
          "2023-01-01T07:14:00.000000000",
          "2023-01-01T07:18:00.000000000",
          "2023-01-01T07:34:00.000000000",
          "2023-01-01T07:36:00.000000000",
          "2023-01-01T07:38:00.000000000",
          "2023-01-01T07:40:00.000000000",
          "2023-01-01T07:42:00.000000000",
          "2023-01-01T07:46:00.000000000",
          "2023-01-01T07:48:00.000000000",
          "2023-01-01T07:56:00.000000000",
          "2023-01-01T08:02:00.000000000",
          "2023-01-01T08:06:00.000000000",
          "2023-01-01T08:14:00.000000000",
          "2023-01-01T08:18:00.000000000",
          "2023-01-01T08:42:00.000000000",
          "2023-01-01T08:50:00.000000000",
          "2023-01-01T08:56:00.000000000",
          "2023-01-01T08:58:00.000000000",
          "2023-01-01T09:12:00.000000000",
          "2023-01-01T09:54:00.000000000",
          "2023-01-01T10:06:00.000000000",
          "2023-01-01T10:10:00.000000000",
          "2023-01-01T10:12:00.000000000",
          "2023-01-01T10:14:00.000000000",
          "2023-01-01T10:18:00.000000000",
          "2023-01-01T10:22:00.000000000",
          "2023-01-01T10:30:00.000000000",
          "2023-01-01T10:36:00.000000000",
          "2023-01-01T10:38:00.000000000",
          "2023-01-01T10:46:00.000000000",
          "2023-01-01T10:48:00.000000000",
          "2023-01-01T10:50:00.000000000",
          "2023-01-01T10:52:00.000000000",
          "2023-01-01T11:34:00.000000000",
          "2023-01-01T11:54:00.000000000",
          "2023-01-01T12:06:00.000000000",
          "2023-01-01T12:08:00.000000000",
          "2023-01-01T12:12:00.000000000",
          "2023-01-01T12:14:00.000000000",
          "2023-01-01T12:20:00.000000000",
          "2023-01-01T12:22:00.000000000",
          "2023-01-01T12:24:00.000000000",
          "2023-01-01T12:28:00.000000000",
          "2023-01-01T12:38:00.000000000",
          "2023-01-01T12:42:00.000000000",
          "2023-01-01T12:50:00.000000000",
          "2023-01-01T13:06:00.000000000",
          "2023-01-01T13:38:00.000000000",
          "2023-01-01T13:42:00.000000000",
          "2023-01-01T13:44:00.000000000",
          "2023-01-01T13:48:00.000000000",
          "2023-01-01T13:50:00.000000000",
          "2023-01-01T14:24:00.000000000",
          "2023-01-01T14:26:00.000000000",
          "2023-01-01T14:28:00.000000000",
          "2023-01-01T14:36:00.000000000",
          "2023-01-01T14:38:00.000000000",
          "2023-01-01T14:40:00.000000000",
          "2023-01-01T14:44:00.000000000",
          "2023-01-01T14:48:00.000000000",
          "2023-01-01T14:54:00.000000000",
          "2023-01-01T15:02:00.000000000",
          "2023-01-01T15:06:00.000000000",
          "2023-01-01T15:16:00.000000000",
          "2023-01-01T15:44:00.000000000",
          "2023-01-01T15:54:00.000000000",
          "2023-01-01T16:06:00.000000000",
          "2023-01-01T16:08:00.000000000",
          "2023-01-01T16:16:00.000000000",
          "2023-01-01T16:32:00.000000000",
          "2023-01-01T16:36:00.000000000"
         ],
         "xaxis": "x",
         "y": [
          1,
          3,
          3,
          5,
          5,
          7,
          9,
          9,
          11,
          13,
          13,
          15,
          15,
          17,
          17,
          19,
          21,
          23,
          25,
          25,
          25,
          27,
          29,
          29,
          31,
          31,
          31,
          31,
          33,
          33,
          35,
          35,
          37,
          39,
          41,
          41,
          43,
          45,
          47,
          47,
          49,
          49,
          49,
          49,
          51,
          51,
          53,
          55,
          57,
          59,
          61,
          61,
          63,
          63,
          65,
          65,
          65,
          65,
          65,
          65,
          65,
          67,
          67,
          67,
          67,
          67,
          69,
          71,
          71,
          71,
          73,
          75,
          77,
          79,
          79,
          79,
          79,
          79,
          81,
          83,
          83,
          85,
          85,
          85,
          85,
          87,
          87,
          89,
          89,
          89,
          89,
          91,
          91,
          91,
          91,
          93,
          93,
          95,
          97,
          99,
          99,
          99,
          99,
          99,
          101,
          101,
          101,
          101,
          101,
          101,
          103,
          105,
          105,
          105,
          107,
          109,
          111,
          113,
          115,
          115,
          117,
          119,
          119
         ],
         "yaxis": "y"
        },
        {
         "hovertemplate": "outcome=Win<br>time=%{x}<br>Streak Group=%{y}<extra></extra>",
         "legendgroup": "Win",
         "marker": {
          "color": "#EF553B",
          "size": 10,
          "symbol": "diamond"
         },
         "mode": "markers",
         "name": "Win",
         "orientation": "v",
         "showlegend": true,
         "type": "scatter",
         "x": [
          "2023-01-01T00:18:00.000000000",
          "2023-01-01T00:26:00.000000000",
          "2023-01-01T00:38:00.000000000",
          "2023-01-01T00:40:00.000000000",
          "2023-01-01T00:42:00.000000000",
          "2023-01-01T00:44:00.000000000",
          "2023-01-01T00:46:00.000000000",
          "2023-01-01T00:50:00.000000000",
          "2023-01-01T01:06:00.000000000",
          "2023-01-01T01:24:00.000000000",
          "2023-01-01T01:26:00.000000000",
          "2023-01-01T01:34:00.000000000",
          "2023-01-01T01:36:00.000000000",
          "2023-01-01T01:46:00.000000000",
          "2023-01-01T01:52:00.000000000",
          "2023-01-01T01:58:00.000000000",
          "2023-01-01T02:00:00.000000000",
          "2023-01-01T02:02:00.000000000",
          "2023-01-01T02:08:00.000000000",
          "2023-01-01T02:10:00.000000000",
          "2023-01-01T02:12:00.000000000",
          "2023-01-01T02:18:00.000000000",
          "2023-01-01T02:22:00.000000000",
          "2023-01-01T02:26:00.000000000",
          "2023-01-01T02:36:00.000000000",
          "2023-01-01T02:38:00.000000000",
          "2023-01-01T02:52:00.000000000",
          "2023-01-01T02:54:00.000000000",
          "2023-01-01T02:56:00.000000000",
          "2023-01-01T03:04:00.000000000",
          "2023-01-01T03:14:00.000000000",
          "2023-01-01T03:18:00.000000000",
          "2023-01-01T03:38:00.000000000",
          "2023-01-01T03:42:00.000000000",
          "2023-01-01T03:56:00.000000000",
          "2023-01-01T04:08:00.000000000",
          "2023-01-01T04:12:00.000000000",
          "2023-01-01T04:18:00.000000000",
          "2023-01-01T04:22:00.000000000",
          "2023-01-01T04:32:00.000000000",
          "2023-01-01T04:34:00.000000000",
          "2023-01-01T04:36:00.000000000",
          "2023-01-01T04:54:00.000000000",
          "2023-01-01T04:58:00.000000000",
          "2023-01-01T05:10:00.000000000",
          "2023-01-01T05:16:00.000000000",
          "2023-01-01T05:18:00.000000000",
          "2023-01-01T05:20:00.000000000",
          "2023-01-01T05:22:00.000000000",
          "2023-01-01T05:50:00.000000000",
          "2023-01-01T05:52:00.000000000",
          "2023-01-01T06:20:00.000000000",
          "2023-01-01T06:22:00.000000000",
          "2023-01-01T06:26:00.000000000",
          "2023-01-01T06:28:00.000000000",
          "2023-01-01T06:32:00.000000000",
          "2023-01-01T06:40:00.000000000",
          "2023-01-01T06:52:00.000000000",
          "2023-01-01T06:54:00.000000000",
          "2023-01-01T06:56:00.000000000",
          "2023-01-01T07:06:00.000000000",
          "2023-01-01T07:08:00.000000000",
          "2023-01-01T07:24:00.000000000",
          "2023-01-01T07:52:00.000000000",
          "2023-01-01T07:54:00.000000000",
          "2023-01-01T08:20:00.000000000",
          "2023-01-01T08:22:00.000000000",
          "2023-01-01T08:32:00.000000000",
          "2023-01-01T08:46:00.000000000",
          "2023-01-01T09:10:00.000000000",
          "2023-01-01T09:14:00.000000000",
          "2023-01-01T09:16:00.000000000",
          "2023-01-01T09:20:00.000000000",
          "2023-01-01T09:22:00.000000000",
          "2023-01-01T09:32:00.000000000",
          "2023-01-01T09:40:00.000000000",
          "2023-01-01T09:52:00.000000000",
          "2023-01-01T10:04:00.000000000",
          "2023-01-01T10:08:00.000000000",
          "2023-01-01T10:26:00.000000000",
          "2023-01-01T10:28:00.000000000",
          "2023-01-01T10:34:00.000000000",
          "2023-01-01T10:42:00.000000000",
          "2023-01-01T10:44:00.000000000",
          "2023-01-01T10:58:00.000000000",
          "2023-01-01T11:00:00.000000000",
          "2023-01-01T11:28:00.000000000",
          "2023-01-01T11:30:00.000000000",
          "2023-01-01T11:32:00.000000000",
          "2023-01-01T12:04:00.000000000",
          "2023-01-01T12:18:00.000000000",
          "2023-01-01T12:32:00.000000000",
          "2023-01-01T12:34:00.000000000",
          "2023-01-01T12:36:00.000000000",
          "2023-01-01T12:48:00.000000000",
          "2023-01-01T12:52:00.000000000",
          "2023-01-01T12:54:00.000000000",
          "2023-01-01T13:08:00.000000000",
          "2023-01-01T13:36:00.000000000",
          "2023-01-01T13:52:00.000000000",
          "2023-01-01T13:54:00.000000000",
          "2023-01-01T14:42:00.000000000",
          "2023-01-01T14:46:00.000000000",
          "2023-01-01T15:04:00.000000000",
          "2023-01-01T15:08:00.000000000",
          "2023-01-01T15:12:00.000000000",
          "2023-01-01T15:14:00.000000000",
          "2023-01-01T15:18:00.000000000",
          "2023-01-01T15:24:00.000000000",
          "2023-01-01T15:26:00.000000000",
          "2023-01-01T15:28:00.000000000",
          "2023-01-01T15:30:00.000000000",
          "2023-01-01T15:46:00.000000000",
          "2023-01-01T15:52:00.000000000",
          "2023-01-01T15:56:00.000000000",
          "2023-01-01T15:58:00.000000000",
          "2023-01-01T16:00:00.000000000",
          "2023-01-01T16:02:00.000000000",
          "2023-01-01T16:14:00.000000000",
          "2023-01-01T16:20:00.000000000",
          "2023-01-01T16:28:00.000000000",
          "2023-01-01T16:30:00.000000000"
         ],
         "xaxis": "x",
         "y": [
          2,
          4,
          6,
          6,
          6,
          6,
          6,
          8,
          10,
          12,
          12,
          14,
          14,
          14,
          16,
          18,
          18,
          18,
          20,
          20,
          20,
          22,
          22,
          24,
          24,
          24,
          26,
          26,
          26,
          28,
          30,
          30,
          32,
          32,
          34,
          36,
          38,
          38,
          40,
          42,
          42,
          42,
          44,
          46,
          48,
          48,
          48,
          48,
          48,
          50,
          50,
          52,
          52,
          54,
          54,
          56,
          58,
          60,
          60,
          60,
          62,
          62,
          64,
          66,
          66,
          68,
          68,
          68,
          70,
          72,
          74,
          74,
          74,
          74,
          74,
          74,
          74,
          76,
          78,
          80,
          80,
          82,
          84,
          84,
          86,
          86,
          86,
          86,
          86,
          88,
          90,
          92,
          92,
          92,
          94,
          96,
          96,
          98,
          98,
          100,
          100,
          102,
          104,
          106,
          108,
          108,
          108,
          110,
          110,
          110,
          110,
          110,
          112,
          112,
          114,
          114,
          114,
          114,
          116,
          118,
          118,
          118
         ],
         "yaxis": "y"
        }
       ],
       "layout": {
        "height": 400,
        "legend": {
         "title": {
          "text": "outcome"
         },
         "tracegroupgap": 0
        },
        "template": {
         "data": {
          "bar": [
           {
            "error_x": {
             "color": "#2a3f5f"
            },
            "error_y": {
             "color": "#2a3f5f"
            },
            "marker": {
             "line": {
              "color": "#E5ECF6",
              "width": 0.5
             },
             "pattern": {
              "fillmode": "overlay",
              "size": 10,
              "solidity": 0.2
             }
            },
            "type": "bar"
           }
          ],
          "barpolar": [
           {
            "marker": {
             "line": {
              "color": "#E5ECF6",
              "width": 0.5
             },
             "pattern": {
              "fillmode": "overlay",
              "size": 10,
              "solidity": 0.2
             }
            },
            "type": "barpolar"
           }
          ],
          "carpet": [
           {
            "aaxis": {
             "endlinecolor": "#2a3f5f",
             "gridcolor": "white",
             "linecolor": "white",
             "minorgridcolor": "white",
             "startlinecolor": "#2a3f5f"
            },
            "baxis": {
             "endlinecolor": "#2a3f5f",
             "gridcolor": "white",
             "linecolor": "white",
             "minorgridcolor": "white",
             "startlinecolor": "#2a3f5f"
            },
            "type": "carpet"
           }
          ],
          "choropleth": [
           {
            "colorbar": {
             "outlinewidth": 0,
             "ticks": ""
            },
            "type": "choropleth"
           }
          ],
          "contour": [
           {
            "colorbar": {
             "outlinewidth": 0,
             "ticks": ""
            },
            "colorscale": [
             [
              0,
              "#0d0887"
             ],
             [
              0.1111111111111111,
              "#46039f"
             ],
             [
              0.2222222222222222,
              "#7201a8"
             ],
             [
              0.3333333333333333,
              "#9c179e"
             ],
             [
              0.4444444444444444,
              "#bd3786"
             ],
             [
              0.5555555555555556,
              "#d8576b"
             ],
             [
              0.6666666666666666,
              "#ed7953"
             ],
             [
              0.7777777777777778,
              "#fb9f3a"
             ],
             [
              0.8888888888888888,
              "#fdca26"
             ],
             [
              1,
              "#f0f921"
             ]
            ],
            "type": "contour"
           }
          ],
          "contourcarpet": [
           {
            "colorbar": {
             "outlinewidth": 0,
             "ticks": ""
            },
            "type": "contourcarpet"
           }
          ],
          "heatmap": [
           {
            "colorbar": {
             "outlinewidth": 0,
             "ticks": ""
            },
            "colorscale": [
             [
              0,
              "#0d0887"
             ],
             [
              0.1111111111111111,
              "#46039f"
             ],
             [
              0.2222222222222222,
              "#7201a8"
             ],
             [
              0.3333333333333333,
              "#9c179e"
             ],
             [
              0.4444444444444444,
              "#bd3786"
             ],
             [
              0.5555555555555556,
              "#d8576b"
             ],
             [
              0.6666666666666666,
              "#ed7953"
             ],
             [
              0.7777777777777778,
              "#fb9f3a"
             ],
             [
              0.8888888888888888,
              "#fdca26"
             ],
             [
              1,
              "#f0f921"
             ]
            ],
            "type": "heatmap"
           }
          ],
          "histogram": [
           {
            "marker": {
             "pattern": {
              "fillmode": "overlay",
              "size": 10,
              "solidity": 0.2
             }
            },
            "type": "histogram"
           }
          ],
          "histogram2d": [
           {
            "colorbar": {
             "outlinewidth": 0,
             "ticks": ""
            },
            "colorscale": [
             [
              0,
              "#0d0887"
             ],
             [
              0.1111111111111111,
              "#46039f"
             ],
             [
              0.2222222222222222,
              "#7201a8"
             ],
             [
              0.3333333333333333,
              "#9c179e"
             ],
             [
              0.4444444444444444,
              "#bd3786"
             ],
             [
              0.5555555555555556,
              "#d8576b"
             ],
             [
              0.6666666666666666,
              "#ed7953"
             ],
             [
              0.7777777777777778,
              "#fb9f3a"
             ],
             [
              0.8888888888888888,
              "#fdca26"
             ],
             [
              1,
              "#f0f921"
             ]
            ],
            "type": "histogram2d"
           }
          ],
          "histogram2dcontour": [
           {
            "colorbar": {
             "outlinewidth": 0,
             "ticks": ""
            },
            "colorscale": [
             [
              0,
              "#0d0887"
             ],
             [
              0.1111111111111111,
              "#46039f"
             ],
             [
              0.2222222222222222,
              "#7201a8"
             ],
             [
              0.3333333333333333,
              "#9c179e"
             ],
             [
              0.4444444444444444,
              "#bd3786"
             ],
             [
              0.5555555555555556,
              "#d8576b"
             ],
             [
              0.6666666666666666,
              "#ed7953"
             ],
             [
              0.7777777777777778,
              "#fb9f3a"
             ],
             [
              0.8888888888888888,
              "#fdca26"
             ],
             [
              1,
              "#f0f921"
             ]
            ],
            "type": "histogram2dcontour"
           }
          ],
          "mesh3d": [
           {
            "colorbar": {
             "outlinewidth": 0,
             "ticks": ""
            },
            "type": "mesh3d"
           }
          ],
          "parcoords": [
           {
            "line": {
             "colorbar": {
              "outlinewidth": 0,
              "ticks": ""
             }
            },
            "type": "parcoords"
           }
          ],
          "pie": [
           {
            "automargin": true,
            "type": "pie"
           }
          ],
          "scatter": [
           {
            "fillpattern": {
             "fillmode": "overlay",
             "size": 10,
             "solidity": 0.2
            },
            "type": "scatter"
           }
          ],
          "scatter3d": [
           {
            "line": {
             "colorbar": {
              "outlinewidth": 0,
              "ticks": ""
             }
            },
            "marker": {
             "colorbar": {
              "outlinewidth": 0,
              "ticks": ""
             }
            },
            "type": "scatter3d"
           }
          ],
          "scattercarpet": [
           {
            "marker": {
             "colorbar": {
              "outlinewidth": 0,
              "ticks": ""
             }
            },
            "type": "scattercarpet"
           }
          ],
          "scattergeo": [
           {
            "marker": {
             "colorbar": {
              "outlinewidth": 0,
              "ticks": ""
             }
            },
            "type": "scattergeo"
           }
          ],
          "scattergl": [
           {
            "marker": {
             "colorbar": {
              "outlinewidth": 0,
              "ticks": ""
             }
            },
            "type": "scattergl"
           }
          ],
          "scattermap": [
           {
            "marker": {
             "colorbar": {
              "outlinewidth": 0,
              "ticks": ""
             }
            },
            "type": "scattermap"
           }
          ],
          "scattermapbox": [
           {
            "marker": {
             "colorbar": {
              "outlinewidth": 0,
              "ticks": ""
             }
            },
            "type": "scattermapbox"
           }
          ],
          "scatterpolar": [
           {
            "marker": {
             "colorbar": {
              "outlinewidth": 0,
              "ticks": ""
             }
            },
            "type": "scatterpolar"
           }
          ],
          "scatterpolargl": [
           {
            "marker": {
             "colorbar": {
              "outlinewidth": 0,
              "ticks": ""
             }
            },
            "type": "scatterpolargl"
           }
          ],
          "scatterternary": [
           {
            "marker": {
             "colorbar": {
              "outlinewidth": 0,
              "ticks": ""
             }
            },
            "type": "scatterternary"
           }
          ],
          "surface": [
           {
            "colorbar": {
             "outlinewidth": 0,
             "ticks": ""
            },
            "colorscale": [
             [
              0,
              "#0d0887"
             ],
             [
              0.1111111111111111,
              "#46039f"
             ],
             [
              0.2222222222222222,
              "#7201a8"
             ],
             [
              0.3333333333333333,
              "#9c179e"
             ],
             [
              0.4444444444444444,
              "#bd3786"
             ],
             [
              0.5555555555555556,
              "#d8576b"
             ],
             [
              0.6666666666666666,
              "#ed7953"
             ],
             [
              0.7777777777777778,
              "#fb9f3a"
             ],
             [
              0.8888888888888888,
              "#fdca26"
             ],
             [
              1,
              "#f0f921"
             ]
            ],
            "type": "surface"
           }
          ],
          "table": [
           {
            "cells": {
             "fill": {
              "color": "#EBF0F8"
             },
             "line": {
              "color": "white"
             }
            },
            "header": {
             "fill": {
              "color": "#C8D4E3"
             },
             "line": {
              "color": "white"
             }
            },
            "type": "table"
           }
          ]
         },
         "layout": {
          "annotationdefaults": {
           "arrowcolor": "#2a3f5f",
           "arrowhead": 0,
           "arrowwidth": 1
          },
          "autotypenumbers": "strict",
          "coloraxis": {
           "colorbar": {
            "outlinewidth": 0,
            "ticks": ""
           }
          },
          "colorscale": {
           "diverging": [
            [
             0,
             "#8e0152"
            ],
            [
             0.1,
             "#c51b7d"
            ],
            [
             0.2,
             "#de77ae"
            ],
            [
             0.3,
             "#f1b6da"
            ],
            [
             0.4,
             "#fde0ef"
            ],
            [
             0.5,
             "#f7f7f7"
            ],
            [
             0.6,
             "#e6f5d0"
            ],
            [
             0.7,
             "#b8e186"
            ],
            [
             0.8,
             "#7fbc41"
            ],
            [
             0.9,
             "#4d9221"
            ],
            [
             1,
             "#276419"
            ]
           ],
           "sequential": [
            [
             0,
             "#0d0887"
            ],
            [
             0.1111111111111111,
             "#46039f"
            ],
            [
             0.2222222222222222,
             "#7201a8"
            ],
            [
             0.3333333333333333,
             "#9c179e"
            ],
            [
             0.4444444444444444,
             "#bd3786"
            ],
            [
             0.5555555555555556,
             "#d8576b"
            ],
            [
             0.6666666666666666,
             "#ed7953"
            ],
            [
             0.7777777777777778,
             "#fb9f3a"
            ],
            [
             0.8888888888888888,
             "#fdca26"
            ],
            [
             1,
             "#f0f921"
            ]
           ],
           "sequentialminus": [
            [
             0,
             "#0d0887"
            ],
            [
             0.1111111111111111,
             "#46039f"
            ],
            [
             0.2222222222222222,
             "#7201a8"
            ],
            [
             0.3333333333333333,
             "#9c179e"
            ],
            [
             0.4444444444444444,
             "#bd3786"
            ],
            [
             0.5555555555555556,
             "#d8576b"
            ],
            [
             0.6666666666666666,
             "#ed7953"
            ],
            [
             0.7777777777777778,
             "#fb9f3a"
            ],
            [
             0.8888888888888888,
             "#fdca26"
            ],
            [
             1,
             "#f0f921"
            ]
           ]
          },
          "colorway": [
           "#636efa",
           "#EF553B",
           "#00cc96",
           "#ab63fa",
           "#FFA15A",
           "#19d3f3",
           "#FF6692",
           "#B6E880",
           "#FF97FF",
           "#FECB52"
          ],
          "font": {
           "color": "#2a3f5f"
          },
          "geo": {
           "bgcolor": "white",
           "lakecolor": "white",
           "landcolor": "#E5ECF6",
           "showlakes": true,
           "showland": true,
           "subunitcolor": "white"
          },
          "hoverlabel": {
           "align": "left"
          },
          "hovermode": "closest",
          "mapbox": {
           "style": "light"
          },
          "paper_bgcolor": "white",
          "plot_bgcolor": "#E5ECF6",
          "polar": {
           "angularaxis": {
            "gridcolor": "white",
            "linecolor": "white",
            "ticks": ""
           },
           "bgcolor": "#E5ECF6",
           "radialaxis": {
            "gridcolor": "white",
            "linecolor": "white",
            "ticks": ""
           }
          },
          "scene": {
           "xaxis": {
            "backgroundcolor": "#E5ECF6",
            "gridcolor": "white",
            "gridwidth": 2,
            "linecolor": "white",
            "showbackground": true,
            "ticks": "",
            "zerolinecolor": "white"
           },
           "yaxis": {
            "backgroundcolor": "#E5ECF6",
            "gridcolor": "white",
            "gridwidth": 2,
            "linecolor": "white",
            "showbackground": true,
            "ticks": "",
            "zerolinecolor": "white"
           },
           "zaxis": {
            "backgroundcolor": "#E5ECF6",
            "gridcolor": "white",
            "gridwidth": 2,
            "linecolor": "white",
            "showbackground": true,
            "ticks": "",
            "zerolinecolor": "white"
           }
          },
          "shapedefaults": {
           "line": {
            "color": "#2a3f5f"
           }
          },
          "ternary": {
           "aaxis": {
            "gridcolor": "white",
            "linecolor": "white",
            "ticks": ""
           },
           "baxis": {
            "gridcolor": "white",
            "linecolor": "white",
            "ticks": ""
           },
           "bgcolor": "#E5ECF6",
           "caxis": {
            "gridcolor": "white",
            "linecolor": "white",
            "ticks": ""
           }
          },
          "title": {
           "x": 0.05
          },
          "xaxis": {
           "automargin": true,
           "gridcolor": "white",
           "linecolor": "white",
           "ticks": "",
           "title": {
            "standoff": 15
           },
           "zerolinecolor": "white",
           "zerolinewidth": 2
          },
          "yaxis": {
           "automargin": true,
           "gridcolor": "white",
           "linecolor": "white",
           "ticks": "",
           "title": {
            "standoff": 15
           },
           "zerolinecolor": "white",
           "zerolinewidth": 2
          }
         }
        },
        "title": {
         "text": "Win/Lose Streak Timeline"
        },
        "xaxis": {
         "anchor": "y",
         "domain": [
          0,
          1
         ],
         "title": {
          "text": "time"
         }
        },
        "yaxis": {
         "anchor": "x",
         "domain": [
          0,
          1
         ],
         "tickvals": [],
         "title": {
          "text": "Streak Group"
         }
        }
       }
      }
     },
     "metadata": {},
     "output_type": "display_data"
    }
   ],
   "source": [
    "def backtest_binary_options(signals, expiry_minutes=5):\n",
    "    \"\"\"\n",
    "    ทดสอบย้อนหลังสำหรับไบนารีออปชั่นที่มีเวลาหมดอายุ\n",
    "    \"\"\"\n",
    "    results = pd.DataFrame(index=signals.index)\n",
    "    results['price'] = signals['price']\n",
    "    results['signal'] = signals['entry_signal']\n",
    "    \n",
    "    results['entry_price'] = np.nan\n",
    "    results['expiry_price'] = np.nan\n",
    "    results['win'] = np.nan\n",
    "    total_trades = 0\n",
    "    \n",
    "    for i in range(0, len(results) - expiry_minutes, 2):\n",
    "        if results.iloc[i]['signal'] != 0:\n",
    "            total_trades += 1\n",
    "            entry_price = results.iloc[i]['price']\n",
    "            results.iloc[i, results.columns.get_loc('entry_price')] = entry_price\n",
    "            \n",
    "            expiry_price = results.iloc[i + expiry_minutes]['price']\n",
    "            results.iloc[i, results.columns.get_loc('expiry_price')] = expiry_price\n",
    "            \n",
    "            if results.iloc[i]['signal'] == 1:\n",
    "                win = 1 if expiry_price > entry_price else 0\n",
    "            else:\n",
    "                win = 1 if expiry_price < entry_price else 0\n",
    "                \n",
    "            results.iloc[i, results.columns.get_loc('win')] = win\n",
    "    \n",
    "    win_rate = results['win'].mean() * 100\n",
    "\n",
    "    # Streak analysis\n",
    "    max_win_streak = 0\n",
    "    max_lose_streak = 0\n",
    "    current_win_streak = 0\n",
    "    current_lose_streak = 0\n",
    "    streaks = []\n",
    "    current_streak = 0\n",
    "    current_result = None\n",
    "\n",
    "    for result in results['win'].dropna():\n",
    "        if result == current_result:\n",
    "            current_streak += 1\n",
    "        else:\n",
    "            if current_result is not None:\n",
    "                streaks.append((current_result, current_streak))\n",
    "            current_result = result\n",
    "            current_streak = 1\n",
    "        \n",
    "        if result == 1:\n",
    "            current_win_streak += 1\n",
    "            current_lose_streak = 0\n",
    "        else:\n",
    "            current_lose_streak += 1\n",
    "            current_win_streak = 0\n",
    "        \n",
    "        max_win_streak = max(max_win_streak, current_win_streak)\n",
    "        max_lose_streak = max(max_lose_streak, current_lose_streak)\n",
    "\n",
    "    if current_result is not None:\n",
    "        streaks.append((current_result, current_streak))\n",
    "    \n",
    "    return results, win_rate, max_win_streak, max_lose_streak, total_trades, streaks\n",
    "\n",
    "\n",
    "def plot_streak_histogram(streaks):\n",
    "    \"\"\"\n",
    "    แสดง histogram ของ streaks แยก win และ lose\n",
    "    \"\"\"\n",
    "    win_streaks = [s for r, s in streaks if r == 1]\n",
    "    lose_streaks = [s for r, s in streaks if r == 0]\n",
    "\n",
    "    max_streak_len = max(win_streaks + lose_streaks, default=0)\n",
    "\n",
    "    plt.figure(figsize=(12, 6))\n",
    "    bins = range(1, max_streak_len + 2)\n",
    "\n",
    "    plt.hist(win_streaks, bins=bins, alpha=0.6, label='Win Streaks', color='green', edgecolor='black')\n",
    "    plt.hist(lose_streaks, bins=bins, alpha=0.6, label='Lose Streaks', color='red', edgecolor='black')\n",
    "\n",
    "    plt.title(\"Distribution of Win/Lose Streak Lengths\")\n",
    "    plt.xlabel(\"Streak Length\")\n",
    "    plt.ylabel(\"Frequency\")\n",
    "    plt.xticks(bins)\n",
    "    plt.legend()\n",
    "    plt.grid(True)\n",
    "    plt.tight_layout()\n",
    "    plt.show()\n",
    "\n",
    "def plot_separated_streak_histograms(streaks):\n",
    "    \"\"\"\n",
    "    แสดง histogram แยก win streak และ lose streak\n",
    "    \"\"\"\n",
    "    win_streaks = [s for r, s in streaks if r == 1]\n",
    "    lose_streaks = [s for r, s in streaks if r == 0]\n",
    "\n",
    "    max_win_len = max(win_streaks, default=0)\n",
    "    max_lose_len = max(lose_streaks, default=0)\n",
    "\n",
    "    fig, axes = plt.subplots(1, 2, figsize=(14, 5))\n",
    "\n",
    "    # Win streak histogram\n",
    "    bins_win = range(1, max_win_len + 2)\n",
    "    axes[0].hist(win_streaks, bins=bins_win, color='green', edgecolor='black', alpha=0.7)\n",
    "    axes[0].set_title('Histogram of Win Streaks')\n",
    "    axes[0].set_xlabel('Win Streak Length')\n",
    "    axes[0].set_ylabel('Frequency')\n",
    "    axes[0].set_xticks(bins_win)\n",
    "    axes[0].grid(True)\n",
    "\n",
    "    # Lose streak histogram\n",
    "    bins_lose = range(1, max_lose_len + 2)\n",
    "    axes[1].hist(lose_streaks, bins=bins_lose, color='red', edgecolor='black', alpha=0.7)\n",
    "    axes[1].set_title('Histogram of Lose Streaks')\n",
    "    axes[1].set_xlabel('Lose Streak Length')\n",
    "    axes[1].set_ylabel('Frequency')\n",
    "    axes[1].set_xticks(bins_lose)\n",
    "    axes[1].grid(True)\n",
    "\n",
    "    plt.tight_layout()\n",
    "    plt.show()\n",
    "\n",
    "def plot_streak_timeline(results):\n",
    "    \"\"\"\n",
    "    แสดงผล win/lose แบบ timeline โดยใช้ Plotly\n",
    "    \"\"\"\n",
    "    streak_df = results[['win']].dropna().copy()\n",
    "    streak_df['time'] = streak_df.index\n",
    "    streak_df['outcome'] = streak_df['win'].map({1: 'Win', 0: 'Lose'})\n",
    "    streak_df['streak_group'] = None\n",
    "\n",
    "    # สร้าง group เดียวกันสำหรับ streak เดียวกัน\n",
    "    group_id = 0\n",
    "    prev_result = None\n",
    "    for i, val in streak_df['win'].items():\n",
    "        if val != prev_result:\n",
    "            group_id += 1\n",
    "        streak_df.loc[i, 'streak_group'] = group_id\n",
    "        prev_result = val\n",
    "\n",
    "    # Plot\n",
    "    fig = px.scatter(\n",
    "        streak_df,\n",
    "        x='time',\n",
    "        y='streak_group',\n",
    "        color='outcome',\n",
    "        symbol='outcome',\n",
    "        title='Win/Lose Streak Timeline',\n",
    "        labels={'streak_group': 'Streak Group'},\n",
    "        height=400\n",
    "    )\n",
    "\n",
    "    fig.update_traces(marker=dict(size=10))\n",
    "    fig.update_layout(yaxis=dict(tickvals=[]))  # ซ่อน y-axis ของ streak group\n",
    "    fig.show()\n",
    "\n",
    "    \n",
    "def main():\n",
    "    # โหลดข้อมูล\n",
    "    df = pd.read_csv(f'../data/raw_{pair}.csv')\n",
    "    \n",
    "    # หรือสร้างข้อมูลจำลอง\n",
    "    np.random.seed(42)\n",
    "    n = 1000  # จำนวนแท่งเทียน 1 นาที\n",
    "    \n",
    "    dates = pd.date_range('2023-01-01', periods=n, freq='1min')\n",
    "    price_o = df['open'].values #100 + np.cumsum(np.random.normal(0, 0.3, n))\n",
    "    price_c = df['close'].values\n",
    "    high = df['high'].values #price + np.random.uniform(0, 1, n)\n",
    "    low = df['low'].values #price - np.random.uniform(0, 1, n)\n",
    "    volume = df['volume'].values\n",
    "    \n",
    "    df = pd.DataFrame({\n",
    "        'open': price_o,\n",
    "        'high': high,\n",
    "        'low': low,\n",
    "        'close': price_c,\n",
    "        'volume': volume #np.random.uniform(1000, 5000, n)\n",
    "    }, index=dates)\n",
    "    \n",
    "    # เพิ่มอินดิเคเตอร์\n",
    "    df = add_indicators(df)\n",
    "    \n",
    "    # สร้างสัญญาณ\n",
    "    signals = generate_signals(df)\n",
    "    \n",
    "    results, win_rate, mw, ml, total_trade, streaks = backtest_binary_options(signals, expiry_minutes=1)\n",
    "\n",
    "    print(f\"Total Trades: {total_trade}\")\n",
    "    print(f\"Max Win Streak: {mw}\")\n",
    "    print(f\"Max Lose Streak: {ml}\")\n",
    "    print(f\"Win Rate: {win_rate:.2f}%\")\n",
    "\n",
    "    # แสดง streak ทั้งหมดแบบข้อความ\n",
    "    for i, (result, streak_len) in enumerate(streaks, 1):\n",
    "        outcome = 'Win' if result == 1 else 'Lose'\n",
    "        print(f\"Streak {i}: {outcome} {streak_len} times\")\n",
    "\n",
    "    # แสดง histogram streaks\n",
    "    plot_separated_streak_histograms(streaks)\n",
    "    plot_streak_timeline(results)\n",
    "\n",
    "\n",
    "\n",
    "if __name__ == \"__main__\":\n",
    "    main()"
   ]
  },
  {
   "cell_type": "code",
   "execution_count": null,
   "id": "cd5f334a",
   "metadata": {},
   "outputs": [],
   "source": [
    "import pandas as pd\n",
    "import numpy as np\n",
    "import matplotlib.pyplot as plt\n",
    "import optuna\n",
    "from ta.momentum import RSIIndicator\n",
    "from ta.trend import PSARIndicator\n",
    "from pykalman import KalmanFilter\n",
    "\n",
    "\n",
    "def apply_kalman_filter(price_series, process_variance=1e-5, observation_variance=1e-1):\n",
    "    kf = KalmanFilter(\n",
    "        transition_matrices=[1],\n",
    "        observation_matrices=[1],\n",
    "        initial_state_mean=price_series.iloc[0],\n",
    "        initial_state_covariance=1,\n",
    "        transition_covariance=process_variance,\n",
    "        observation_covariance=observation_variance\n",
    "    )\n",
    "    state_means, _ = kf.filter(price_series.values)\n",
    "    return pd.Series(state_means.flatten(), index=price_series.index)\n",
    "\n",
    "\n",
    "def add_indicators(df, psar_step=0.02, psar_max=0.2, rsi_window=14, kalman_cov=1e-1):\n",
    "    df = df.copy()\n",
    "    df['rsi'] = RSIIndicator(df['close'], window=rsi_window).rsi()\n",
    "    psar = PSARIndicator(df['high'], df['low'], df['close'], step=psar_step, max_step=psar_max)\n",
    "    df['psar'] = psar.psar()\n",
    "    df['kalman'] = apply_kalman_filter(df['close'], observation_variance=kalman_cov)\n",
    "    return df\n",
    "\n",
    "\n",
    "def generate_signals(df):\n",
    "    df = df.copy()\n",
    "    df['signal'] = 0\n",
    "    # Long signal\n",
    "    df.loc[\n",
    "        (df['rsi'] < 30) &\n",
    "        (df['close'] > df['psar']) &\n",
    "        (df['close'] > df['kalman']),\n",
    "        'signal'\n",
    "    ] = 1\n",
    "    # Short signal\n",
    "    df.loc[\n",
    "        (df['rsi'] > 70) &\n",
    "        (df['close'] < df['psar']) &\n",
    "        (df['close'] < df['kalman']),\n",
    "        'signal'\n",
    "    ] = -1\n",
    "    return df\n",
    "\n",
    "\n",
    "def backtest_binary_options(df, expiry=1):\n",
    "    df = df.copy()\n",
    "    df['win'] = 0\n",
    "\n",
    "    for i in range(len(df) - expiry):\n",
    "        if df['signal'].iloc[i] == 1:\n",
    "            df.loc[df.index[i], 'win'] = 1 if df['close'].iloc[i + expiry] > df['close'].iloc[i] else -1\n",
    "        elif df['signal'].iloc[i] == -1:\n",
    "            df.loc[df.index[i], 'win'] = 1 if df['close'].iloc[i + expiry] < df['close'].iloc[i] else -1\n",
    "\n",
    "    df.dropna(inplace=True)\n",
    "\n",
    "    total_trades = (df['win'] != 0).sum()\n",
    "    win_rate = (df['win'] == 1).sum() / total_trades * 100 if total_trades > 0 else 0\n",
    "\n",
    "    max_win_streak = (df['win'] == 1).astype(int).groupby((df['win'] != 1).cumsum()).sum().max()\n",
    "    max_lose_streak = (df['win'] == -1).astype(int).groupby((df['win'] != -1).cumsum()).sum().max()\n",
    "\n",
    "    return df, win_rate, max_win_streak, max_lose_streak, total_trades\n",
    "\n",
    "\n",
    "def optimize_parameters(df, n_trials=100):\n",
    "    def objective(trial):\n",
    "        psar_step = trial.suggest_float('psar_step', 0.01, 0.1)\n",
    "        psar_max = trial.suggest_float('psar_max', 0.1, 0.5)\n",
    "        rsi_window = trial.suggest_int('rsi_window', 5, 20)\n",
    "        kalman_cov = trial.suggest_float('kalman_cov', 1e-3, 1.0)\n",
    "\n",
    "        df_ind = add_indicators(df, psar_step, psar_max, rsi_window, kalman_cov)\n",
    "        df_sig = generate_signals(df_ind)\n",
    "        results, win_rate, max_win_streak, max_lose_streak, total_trades = backtest_binary_options(df_sig)\n",
    "\n",
    "        if total_trades < 30 or max_lose_streak > 4:\n",
    "            return 0  # ลงโทษ\n",
    "\n",
    "        return win_rate\n",
    "\n",
    "    study = optuna.create_study(direction='maximize')\n",
    "    study.optimize(objective, n_trials=n_trials)\n",
    "    print(\"Best trial:\", study.best_trial)\n",
    "    return study.best_params\n",
    "\n",
    "\n",
    "def main():\n",
    "    pair = \"EURUSD\"\n",
    "    df_raw = pd.read_csv(f'../data/raw_{pair}.csv')\n",
    "    # df_raw['datetime'] = pd.to_datetime(df_raw['datetime'])\n",
    "    # df_raw.set_index('datetime', inplace=True)\n",
    "    # df_raw.dropna(inplace=True)\n",
    "\n",
    "    print(\"🔍 กำลังหา parameter ที่ดีที่สุดด้วย Optuna...\")\n",
    "    best_params = optimize_parameters(df_raw, n_trials=100)\n",
    "\n",
    "    print(\"\\n✅ ใช้พารามิเตอร์ที่ดีที่สุดในการทดสอบกลยุทธ์:\")\n",
    "    print(best_params)\n",
    "\n",
    "    df = add_indicators(\n",
    "        df_raw,\n",
    "        psar_step=best_params['psar_step'],\n",
    "        psar_max=best_params['psar_max'],\n",
    "        rsi_window=best_params['rsi_window'],\n",
    "        kalman_cov=best_params['kalman_cov']\n",
    "    )\n",
    "    df = generate_signals(df)\n",
    "\n",
    "    results, win_rate, max_win_streak, max_lose_streak, total_trades = backtest_binary_options(df)\n",
    "\n",
    "    print(f\"\\n📊 ผลลัพธ์กลยุทธ์ Backtest สำหรับ {pair}:\")\n",
    "    print(f\"- Win Rate: {win_rate:.2f}%\")\n",
    "    print(f\"- Max Win Streak: {max_win_streak}\")\n",
    "    print(f\"- Max Lose Streak: {max_lose_streak}\")\n",
    "    print(f\"- Total Trades: {total_trades}\")\n",
    "\n",
    "    results['cumulative_win'] = results['win'].fillna(0).cumsum()\n",
    "    results['cumulative_win'].plot(title='📈 Cumulative Wins Over Time', figsize=(12, 6))\n",
    "    plt.grid()\n",
    "    plt.show()\n",
    "\n",
    "\n",
    "if __name__ == \"__main__\":\n",
    "    main()\n"
   ]
  },
  {
   "cell_type": "code",
   "execution_count": null,
   "id": "6511888b",
   "metadata": {},
   "outputs": [],
   "source": [
    "import pytz\n",
    "import matplotlib.pyplot as plt\n",
    "import pandas as pd\n",
    "\n",
    "df = pd.read_csv(f'data/raw_{pair}.csv')\n",
    "\n",
    "# แปลงเวลาเป็นเขตเวลาประเทศไทย\n",
    "df['datetime'] = pd.to_datetime(df['time'])  # สมมติว่าคอลัมน์ datetime มีอยู่ใน DataFrame\n",
    "df['datetime_th'] = df['datetime'].dt.tz_localize('UTC').dt.tz_convert('Asia/Bangkok')\n",
    "\n",
    "# สร้างคอลัมน์ความผันผวน (Volatility)\n",
    "df['volatility'] = df['high'] - df['low']\n",
    "\n",
    "# พล็อตกราฟ\n",
    "plt.figure(figsize=(12, 6))\n",
    "plt.plot(df['datetime_th'], df['volatility'], label='Volatility', color='blue', alpha=0.7)\n",
    "plt.title('Volatility Over Time (Thailand Time Zone)', fontsize=14)\n",
    "plt.xlabel('Time (Thailand)', fontsize=12)\n",
    "plt.ylabel('Volatility', fontsize=12)\n",
    "plt.grid(True, linestyle='--', alpha=0.5)\n",
    "plt.legend()\n",
    "plt.tight_layout()\n",
    "plt.show()"
   ]
  }
 ],
 "metadata": {
  "kernelspec": {
   "display_name": "vvdd",
   "language": "python",
   "name": "python3"
  },
  "language_info": {
   "codemirror_mode": {
    "name": "ipython",
    "version": 3
   },
   "file_extension": ".py",
   "mimetype": "text/x-python",
   "name": "python",
   "nbconvert_exporter": "python",
   "pygments_lexer": "ipython3",
   "version": "3.12.7"
  }
 },
 "nbformat": 4,
 "nbformat_minor": 5
}
